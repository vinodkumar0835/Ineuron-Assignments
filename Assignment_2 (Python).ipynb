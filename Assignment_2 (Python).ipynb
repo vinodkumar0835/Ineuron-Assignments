{
 "cells": [
  {
   "cell_type": "markdown",
   "metadata": {},
   "source": [
    "**(1) Create the below pattern using nested for loop in Python.**\n",
    "https://drive.google.com/file/d/1DZUKA_tW4yq8R7t8MNQONjg8f2FWmgNX/view"
   ]
  },
  {
   "cell_type": "code",
   "execution_count": 1,
   "metadata": {},
   "outputs": [
    {
     "name": "stdout",
     "output_type": "stream",
     "text": [
      "* \n",
      "* * \n",
      "* * * \n",
      "* * * * \n",
      "* * * * * \n",
      "* * * * \n",
      "* * * \n",
      "* * \n",
      "* \n",
      "\n"
     ]
    }
   ],
   "source": [
    "# with nested loop\n",
    "n = 5\n",
    "for i in range(1,n+1):             # 1  ; 2     ; 3       ; 4         ; 5\n",
    "    for j in range(1,i+1):         # 1  ; 1,2   ; 1,2,3   ; 1,2,3,4   ; 1,2,3,4,5\n",
    "        print(\"*\",end=\" \")         # *  ; * *   ; * * *   ; * * * *   ; * * * * *\n",
    "    print()                        #    ;       ;         ;           ; \n",
    "    \n",
    "for k in range(1,n+1):             # 1          ; 2       ; 3         ; 4\n",
    "    for l in range(1,n+1-k):       # 1,2,3,4    ; 1,2,3   ; 1,2       ; 1\n",
    "        print(\"*\",end=\" \")         # * * * *    ; * * *   ; * *       ; *\n",
    "    print()                        #            ;         ;           :"
   ]
  },
  {
   "cell_type": "code",
   "execution_count": 2,
   "metadata": {},
   "outputs": [
    {
     "name": "stdout",
     "output_type": "stream",
     "text": [
      "* \n",
      "* * \n",
      "* * * \n",
      "* * * * \n",
      "* * * * * \n",
      "* * * * \n",
      "* * * \n",
      "* * \n",
      "* \n"
     ]
    }
   ],
   "source": [
    "# without nested loop\n",
    "n = 5\n",
    "for i in range(1,n+1):\n",
    "    print(\"* \"*i)\n",
    "for j in range(n-1,0,-1):\n",
    "    print(\"* \"*j)\n",
    "    "
   ]
  },
  {
   "cell_type": "markdown",
   "metadata": {},
   "source": [
    "---"
   ]
  },
  {
   "cell_type": "markdown",
   "metadata": {},
   "source": [
    "**(2) Write a Python program to reverse a word after accepting the input from the user.** Input word: ineuron                    and Output: norueni "
   ]
  },
  {
   "cell_type": "code",
   "execution_count": 3,
   "metadata": {},
   "outputs": [
    {
     "name": "stdout",
     "output_type": "stream",
     "text": [
      "Input_word: ineuron\n",
      "Output_word: norueni\n"
     ]
    }
   ],
   "source": [
    "strng = input(\"Input_word: \")\n",
    "print(\"Output_word:\",strng[::-1])"
   ]
  }
 ],
 "metadata": {
  "kernelspec": {
   "display_name": "Python 3",
   "language": "python",
   "name": "python3"
  },
  "language_info": {
   "codemirror_mode": {
    "name": "ipython",
    "version": 3
   },
   "file_extension": ".py",
   "mimetype": "text/x-python",
   "name": "python",
   "nbconvert_exporter": "python",
   "pygments_lexer": "ipython3",
   "version": "3.7.4"
  }
 },
 "nbformat": 4,
 "nbformat_minor": 2
}
