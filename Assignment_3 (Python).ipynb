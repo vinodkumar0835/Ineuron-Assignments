{
 "cells": [
  {
   "cell_type": "markdown",
   "metadata": {},
   "source": [
    "**(1.1) Write a Python Program to implement your own myreduce() function which works exactly like Python's built-in function reduce()**"
   ]
  },
  {
   "cell_type": "code",
   "execution_count": 1,
   "metadata": {},
   "outputs": [],
   "source": [
    "# reduce(function,sequence)--> it reduce the sequence of elements into single element by applying specified function.\n",
    "def add(x,y):\n",
    "    return x+y\n",
    "def subtract(x,y):\n",
    "    return x-y\n",
    "def multiply(x,y):\n",
    "    return x*y\n",
    "def divide(x,y):\n",
    "    return x/y\n",
    "def floor_divide(x,y):\n",
    "    return x//y\n",
    "def mod(x,y):\n",
    "    return x%y\n",
    "def power(x,y):\n",
    "    return x**y\n",
    "\n",
    "\n",
    "def myreduce(function,sequence):      \n",
    "    result = sequence[0]\n",
    "    for i in sequence[1:]:\n",
    "        result = function(result,i)\n",
    "    return result"
   ]
  },
  {
   "cell_type": "code",
   "execution_count": 2,
   "metadata": {},
   "outputs": [
    {
     "data": {
      "text/plain": [
       "150"
      ]
     },
     "execution_count": 2,
     "metadata": {},
     "output_type": "execute_result"
    }
   ],
   "source": [
    "myreduce(add,[10,20,30,40,50])"
   ]
  },
  {
   "cell_type": "markdown",
   "metadata": {},
   "source": [
    "**(1.2) Write a Python program to implement your own myfilter() function which works exactly like Python's built-in function filter()**"
   ]
  },
  {
   "cell_type": "code",
   "execution_count": 3,
   "metadata": {},
   "outputs": [],
   "source": [
    "# filter(function,sequence)--> it filter the sequence of elements by applying specific function/condition\n",
    "def iseven(x):\n",
    "    if x%2 == 0:\n",
    "        return True\n",
    "    else:\n",
    "        return False\n",
    "    \n",
    "def myfilter(function,sequence):\n",
    "    result = []\n",
    "    for x in sequence:\n",
    "        if iseven(x):\n",
    "            result.append(x)\n",
    "    return result"
   ]
  },
  {
   "cell_type": "code",
   "execution_count": 4,
   "metadata": {},
   "outputs": [
    {
     "data": {
      "text/plain": [
       "[0, 10, 20, 30]"
      ]
     },
     "execution_count": 4,
     "metadata": {},
     "output_type": "execute_result"
    }
   ],
   "source": [
    "myfilter(iseven,[0,5,10,15,20,25,30])"
   ]
  },
  {
   "cell_type": "markdown",
   "metadata": {},
   "source": [
    "**(2) Implement List comprehensions to produce the following lists.**                                                          \n",
    "l1 = ['x', 'xx', 'xxx', 'xxxx', 'y', 'yy', 'yyy', 'yyyy', 'z', 'zz', 'zzz', 'zzzz']                                           \n",
    "l2 = ['x', 'y', 'z', 'xx', 'yy', 'zz', 'xxx', 'yyy', 'zzz', 'xxxx', 'yyyy', 'zzzz']                                           \n",
    "l3 = [[2], [3], [4], [3], [4], [5], [4], [5], [6]]                                                                           \n",
    "l4 = [[2, 3, 4, 5], [3, 4, 5, 6],[4, 5, 6, 7], [5, 6, 7, 8]]                    \n",
    "l5 = [(1, 1), (2, 1), (3, 1), (1, 2), (2, 2), (3, 2), (1, 3), (2, 3), (3, 3)]"
   ]
  },
  {
   "cell_type": "code",
   "execution_count": 5,
   "metadata": {},
   "outputs": [
    {
     "name": "stdout",
     "output_type": "stream",
     "text": [
      "l1 = ['x', 'xx', 'xxx', 'xxxx', 'y', 'yy', 'yyy', 'yyyy', 'z', 'zz', 'zzz', 'zzzz']\n",
      "\n",
      "l2 = ['x', 'y', 'z', 'xx', 'yy', 'zz', 'xxx', 'yyy', 'zzz', 'xxxx', 'yyyy', 'zzzz']\n",
      "\n",
      "l3 = [[2], [3], [4], [3], [4], [5], [4], [5], [6]]\n",
      "\n",
      "l4 = [[2, 3, 4, 5], [3, 4, 5, 6], [4, 5, 6, 7], [5, 6, 7, 8]]\n",
      "\n",
      "l5 = [(1, 1), (2, 1), (3, 1), (1, 2), (2, 2), (3, 2), (1, 3), (2, 3), (3, 3)]\n"
     ]
    }
   ],
   "source": [
    "# Comprehensions--> creating an sequential objects from any iterable objects\n",
    "\n",
    "# List comprehensions ==> list = [ <expression> for <each_item in sequence> if <condition> ]\n",
    "\n",
    "L = [\"x\",\"y\",\"z\"]\n",
    "M = [2,3,4]\n",
    "N = [2,3,4,5]\n",
    "O = [1,2,3]\n",
    "\n",
    "l1 = [x * n for x in L for n in range(1,5)]\n",
    "print(\"l1 =\",l1)\n",
    "print()\n",
    "\n",
    "l2 = [x*n for n in range(1,5) for x in L]\n",
    "print(\"l2 =\",l2)\n",
    "print()\n",
    "\n",
    "l3 = [[x+n] for x in M for n in range(3) ]\n",
    "print(\"l3 =\",l3)\n",
    "print()\n",
    "\n",
    "l4 = [[x+n for x in N] for n in range(0,4) ]\n",
    "print(\"l4 =\",l4)\n",
    "print()\n",
    "\n",
    "l5 = [(x,n) for n in range(1,4) for x in O]\n",
    "print(\"l5 =\",l5)"
   ]
  },
  {
   "cell_type": "code",
   "execution_count": null,
   "metadata": {},
   "outputs": [],
   "source": []
  }
 ],
 "metadata": {
  "kernelspec": {
   "display_name": "Python 3",
   "language": "python",
   "name": "python3"
  },
  "language_info": {
   "codemirror_mode": {
    "name": "ipython",
    "version": 3
   },
   "file_extension": ".py",
   "mimetype": "text/x-python",
   "name": "python",
   "nbconvert_exporter": "python",
   "pygments_lexer": "ipython3",
   "version": "3.7.4"
  }
 },
 "nbformat": 4,
 "nbformat_minor": 2
}
