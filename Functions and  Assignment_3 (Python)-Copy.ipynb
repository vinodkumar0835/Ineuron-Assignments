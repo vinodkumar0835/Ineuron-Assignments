{
 "cells": [
  {
   "cell_type": "markdown",
   "metadata": {},
   "source": [
    "**Recursive Functions**"
   ]
  },
  {
   "cell_type": "code",
   "execution_count": 1,
   "metadata": {},
   "outputs": [],
   "source": [
    "# A function that calls itself is known as \"Recursive Functions\"\n",
    "\n",
    "# Advantage of recursive function is:\n",
    "    ## can reduce length of code improve readability\n",
    "    ## can solve complex problems very easily\n",
    "\n",
    "# Example:\n",
    "  ## factorial(3) = 3 * factorial(2) = 3 * 2 * factorial(1) = 3 * 2 * 1 * factorial(0) =  3 * 2 * 1 * 1 = 6\n",
    "    \n",
    "  ## factorial(n) = n * factorial(n-1)"
   ]
  },
  {
   "cell_type": "code",
   "execution_count": 2,
   "metadata": {},
   "outputs": [
    {
     "data": {
      "text/plain": [
       "6"
      ]
     },
     "execution_count": 2,
     "metadata": {},
     "output_type": "execute_result"
    }
   ],
   "source": [
    "# Code : factorial of given number with recursion\n",
    "def factorial(n):\n",
    "    if n == 0:\n",
    "        result = 1\n",
    "    else :\n",
    "        result = n * factorial(n-1)\n",
    "    return result\n",
    "\n",
    "#get output\n",
    "factorial(3)"
   ]
  },
  {
   "cell_type": "markdown",
   "metadata": {},
   "source": [
    "---"
   ]
  },
  {
   "cell_type": "markdown",
   "metadata": {},
   "source": [
    "**lambda function**"
   ]
  },
  {
   "cell_type": "code",
   "execution_count": 3,
   "metadata": {},
   "outputs": [],
   "source": [
    "# Some time we declare a functions without any name,such type of nameless functions are called \"Anonymous functions\" \n",
    "# \"Anonymous functions are also known as \"lambda functions\"  \n",
    "\n",
    "# lambda sequence:expression\n",
    "\n",
    "# lambda function is useful, if we need to pass function as an argument\n",
    "\n",
    "# lambda function is very commly used with \"filter() , map() and reduce()\" because these functions except functions as argument.\n",
    "\n",
    "# example without lambda\n",
    "  ##  def square(n):\n",
    "  ##      return n*n\n",
    "\n",
    "# example with lambda\n",
    "  ## result = lambda n : n*n"
   ]
  },
  {
   "cell_type": "code",
   "execution_count": 4,
   "metadata": {},
   "outputs": [
    {
     "name": "stdout",
     "output_type": "stream",
     "text": [
      "The sqaure of 4 is 16\n",
      "The sqaure of 8 is 64\n"
     ]
    }
   ],
   "source": [
    "# find square of given number\n",
    "s = lambda n : n*n\n",
    "\n",
    "print(\"The sqaure of 4 is\", s(4))\n",
    "print(\"The sqaure of 8 is\", s(8))"
   ]
  },
  {
   "cell_type": "code",
   "execution_count": 5,
   "metadata": {},
   "outputs": [
    {
     "name": "stdout",
     "output_type": "stream",
     "text": [
      "The sum of 3 and 4 is 7\n",
      "The sum of 10 and 20 is 30\n"
     ]
    }
   ],
   "source": [
    "# find sum of two given numbers\n",
    "s = lambda a,b : a+b\n",
    "\n",
    "print(\"The sum of 3 and 4 is\",s(3,4))\n",
    "print(\"The sum of 10 and 20 is\",s(10,20))"
   ]
  },
  {
   "cell_type": "code",
   "execution_count": 6,
   "metadata": {},
   "outputs": [
    {
     "name": "stdout",
     "output_type": "stream",
     "text": [
      "The biggest of 10,20 is 20\n",
      "The biggest of -5,5 is 5\n"
     ]
    }
   ],
   "source": [
    "# find the biggest of given values\n",
    "s = lambda a,b : a if a>b else b\n",
    "\n",
    "print(\"The biggest of 10,20 is\",s(10,20))\n",
    "print(\"The biggest of -5,5 is\",s(-5,5))"
   ]
  },
  {
   "cell_type": "markdown",
   "metadata": {},
   "source": [
    "---"
   ]
  },
  {
   "cell_type": "markdown",
   "metadata": {},
   "source": [
    "**filter function**"
   ]
  },
  {
   "cell_type": "code",
   "execution_count": 7,
   "metadata": {},
   "outputs": [],
   "source": [
    "# filter(function,sequence)--> it filter the sequence of elements by applying specific function/condition"
   ]
  },
  {
   "cell_type": "code",
   "execution_count": 8,
   "metadata": {
    "scrolled": true
   },
   "outputs": [
    {
     "name": "stdout",
     "output_type": "stream",
     "text": [
      "even_list_1: [0, 10, 20, 30]\n",
      "\n",
      "even_list_2: [0, 10, 20, 30]\n"
     ]
    }
   ],
   "source": [
    "# filter only even numbers from the list by using filter()\n",
    "\n",
    "l = [0,5,10,15,20,25,30]\n",
    "\n",
    "# apply filter( without_lambda_function , l)\n",
    "def iseven(x):\n",
    "    if x%2 == 0:\n",
    "        return True\n",
    "    else:\n",
    "        return False\n",
    "\n",
    "even_list_1 = list(filter(iseven,l))\n",
    "print(\"even_list_1:\",even_list_1)\n",
    "\n",
    "print()\n",
    "    \n",
    "#apply filter(with_lambda_function, l)\n",
    "s = lambda x: x%2 == 0\n",
    "\n",
    "even_list_2 = list(filter(s,l))\n",
    "print(\"even_list_2:\",even_list_2)"
   ]
  },
  {
   "cell_type": "markdown",
   "metadata": {},
   "source": [
    "---"
   ]
  },
  {
   "cell_type": "markdown",
   "metadata": {},
   "source": [
    "**map function**"
   ]
  },
  {
   "cell_type": "code",
   "execution_count": 9,
   "metadata": {},
   "outputs": [],
   "source": [
    "# map(function,sequence)   --> it generates new sequence of elements by applying specific function on given sequence.  "
   ]
  },
  {
   "cell_type": "code",
   "execution_count": 10,
   "metadata": {},
   "outputs": [
    {
     "name": "stdout",
     "output_type": "stream",
     "text": [
      "[4, 6, 8, 10]\n",
      "\n",
      "[4, 6, 8, 10]\n"
     ]
    }
   ],
   "source": [
    "l = [2,3,4,5]\n",
    "\n",
    "# map(without_lambda function,sequence)\n",
    "def double(x):\n",
    "    return 2*x\n",
    "\n",
    "l1 = list(map(double,l))\n",
    "print(l1)\n",
    "\n",
    "print()\n",
    "\n",
    "#map(with_lambda function,sequence)\n",
    "l2 = list(map(lambda x : x*2,l))\n",
    "print(l2)"
   ]
  },
  {
   "cell_type": "markdown",
   "metadata": {},
   "source": [
    "---"
   ]
  },
  {
   "cell_type": "markdown",
   "metadata": {},
   "source": [
    "**reduce function**"
   ]
  },
  {
   "cell_type": "code",
   "execution_count": 11,
   "metadata": {},
   "outputs": [],
   "source": [
    "# reduce(function,sequence)--> it reduce the sequence of elements into single element by applying specified function.\n",
    "   # reduce() is available in functools module"
   ]
  },
  {
   "cell_type": "code",
   "execution_count": 12,
   "metadata": {},
   "outputs": [
    {
     "name": "stdout",
     "output_type": "stream",
     "text": [
      "150\n",
      "12000000\n",
      "5050\n"
     ]
    }
   ],
   "source": [
    "from functools import*\n",
    "\n",
    "l = [10,20,30,40,50]\n",
    "\n",
    "result_1 = reduce(lambda x,y:x+y,l)\n",
    "print(result_1)\n",
    "\n",
    "result_2 = reduce(lambda x,y : x*y, l)\n",
    "print(result_2)\n",
    "\n",
    "result_3 = reduce(lambda x,y: x+y, range(1,101))\n",
    "print(result_3)"
   ]
  },
  {
   "cell_type": "markdown",
   "metadata": {},
   "source": [
    "---"
   ]
  },
  {
   "cell_type": "markdown",
   "metadata": {},
   "source": [
    "**comprehensions**"
   ]
  },
  {
   "cell_type": "code",
   "execution_count": 13,
   "metadata": {},
   "outputs": [],
   "source": [
    "# Comprehensions--> creating an sequential objects from any iterable objects\n",
    "\n",
    "## List comprehensions ==> list = [ <expression> for <each_item in sequence> if <condition> ]\n",
    "\n",
    "## set comprehensions ==> set =  { <expression> for <each_item in sequence> if <condition> }\n",
    "\n",
    "## set comprehensions ==> set = { x: <expression> for <each_item in sequence> if <condition> }\n",
    "\n",
    "\n",
    "## tuple comphrence is not supported by python ==> if we use ( ) inplace of [] then we will get genorator object"
   ]
  },
  {
   "cell_type": "code",
   "execution_count": 14,
   "metadata": {},
   "outputs": [
    {
     "name": "stdout",
     "output_type": "stream",
     "text": [
      "[1, 4, 9, 16, 25, 36, 49, 64, 81, 100]\n",
      "[2, 4, 8, 16, 32]\n",
      "[4, 16, 36, 64, 100]\n"
     ]
    }
   ],
   "source": [
    "## List comprehensions:\n",
    "s = [ x*x for x in range(1,11)]\n",
    "v = [2**x for x in range(1,6)]\n",
    "m = [x for x in s if x%2==0]\n",
    "\n",
    "print(s)\n",
    "print(v)\n",
    "print(m)"
   ]
  },
  {
   "cell_type": "code",
   "execution_count": 15,
   "metadata": {},
   "outputs": [
    {
     "name": "stdout",
     "output_type": "stream",
     "text": [
      "['B', 'N', 'V', 'C']\n"
     ]
    }
   ],
   "source": [
    "words = [\"Balaiah\",\"Nag\",\"Venkatesh\",\"Chiru\"]\n",
    "l = [w[0] for w in words]\n",
    "print(l)"
   ]
  },
  {
   "cell_type": "code",
   "execution_count": 16,
   "metadata": {},
   "outputs": [
    {
     "name": "stdout",
     "output_type": "stream",
     "text": [
      "[10, 20]\n",
      "[30, 40]\n"
     ]
    }
   ],
   "source": [
    "n1 = [10,20,30,40]\n",
    "n2 = [30,40,50,60]\n",
    "n3 = [ i for i in n1 if i not in n2 ]\n",
    "n4 = [ i for i in n1 if i in n2 ]\n",
    "print(n3)\n",
    "print(n4)"
   ]
  },
  {
   "cell_type": "code",
   "execution_count": 17,
   "metadata": {},
   "outputs": [
    {
     "name": "stdout",
     "output_type": "stream",
     "text": [
      "['the', 'quick', 'brown', 'for', 'jumps', 'over', 'the', 'lazy', 'dog']\n",
      "\n",
      "[['THE', 3], ['QUICK', 5], ['BROWN', 5], ['FOR', 3], ['JUMPS', 5], ['OVER', 4], ['THE', 3], ['LAZY', 4], ['DOG', 3]]\n"
     ]
    }
   ],
   "source": [
    "words = \"the quick brown for jumps over the lazy dog\".split()\n",
    "print(words)\n",
    "print()\n",
    "l = [ [w.upper(),len(w)]  for w in words]\n",
    "print(l)"
   ]
  },
  {
   "cell_type": "code",
   "execution_count": 18,
   "metadata": {},
   "outputs": [
    {
     "name": "stdout",
     "output_type": "stream",
     "text": [
      "<generator object <genexpr> at 0x0000023E2EE18848>\n",
      "\n",
      "1\n",
      "4\n",
      "9\n",
      "16\n",
      "25\n"
     ]
    }
   ],
   "source": [
    "# tuple comphrence is not supported by python \n",
    "t = (x**2 for x in range(1,6))\n",
    "print(t)\n",
    "print()\n",
    "for x in t:\n",
    "    print(x)"
   ]
  },
  {
   "cell_type": "code",
   "execution_count": 19,
   "metadata": {},
   "outputs": [
    {
     "name": "stdout",
     "output_type": "stream",
     "text": [
      "{0, 1, 4, 9, 16}\n"
     ]
    }
   ],
   "source": [
    "# set comphrence\n",
    "s = {x*x for x in range(5)}\n",
    "print(s)"
   ]
  },
  {
   "cell_type": "code",
   "execution_count": 20,
   "metadata": {},
   "outputs": [
    {
     "name": "stdout",
     "output_type": "stream",
     "text": [
      "{1: 1, 2: 4, 3: 27, 4: 256, 5: 3125}\n"
     ]
    }
   ],
   "source": [
    "# dictionary compreshension\n",
    "s = {x:x**x for x in range(1,6)}\n",
    "print(s)"
   ]
  },
  {
   "cell_type": "markdown",
   "metadata": {},
   "source": [
    "---------------------"
   ]
  },
  {
   "cell_type": "markdown",
   "metadata": {},
   "source": [
    "---"
   ]
  },
  {
   "cell_type": "markdown",
   "metadata": {},
   "source": [
    "**(1.1) Write a Python Program to implement your own myreduce() function which works exactly like Python's built-in function reduce()**"
   ]
  },
  {
   "cell_type": "code",
   "execution_count": 21,
   "metadata": {},
   "outputs": [],
   "source": [
    "# reduce(function,sequence)--> it reduce the sequence of elements into single element by applying specified function.\n",
    "def add(x,y):\n",
    "    return x+y\n",
    "def subtract(x,y):\n",
    "    return x-y\n",
    "def multiply(x,y):\n",
    "    return x*y\n",
    "def divide(x,y):\n",
    "    return x/y\n",
    "def floor_divide(x,y):\n",
    "    return x//y\n",
    "def mod(x,y):\n",
    "    return x%y\n",
    "def power(x,y):\n",
    "    return x**y\n",
    "\n",
    "\n",
    "def myreduce(function,sequence):      \n",
    "    result = sequence[0]\n",
    "    for i in sequence[1:]:\n",
    "        result = function(result,i)\n",
    "    return result"
   ]
  },
  {
   "cell_type": "code",
   "execution_count": 22,
   "metadata": {},
   "outputs": [
    {
     "data": {
      "text/plain": [
       "150"
      ]
     },
     "execution_count": 22,
     "metadata": {},
     "output_type": "execute_result"
    }
   ],
   "source": [
    "myreduce(add,[10,20,30,40,50])"
   ]
  },
  {
   "cell_type": "markdown",
   "metadata": {},
   "source": [
    "**(1.2) Write a Python program to implement your own myfilter() function which works exactly like Python's built-in function filter()**"
   ]
  },
  {
   "cell_type": "code",
   "execution_count": 23,
   "metadata": {},
   "outputs": [],
   "source": [
    "# filter(function,sequence)--> it filter the sequence of elements by applying specific function/condition\n",
    "def iseven(x):\n",
    "    if x%2 == 0:\n",
    "        return True\n",
    "    else:\n",
    "        return False\n",
    "    \n",
    "def myfilter(function,sequence):\n",
    "    result = []\n",
    "    for x in sequence:\n",
    "        if iseven(x):\n",
    "            result.append(x)\n",
    "    return result"
   ]
  },
  {
   "cell_type": "code",
   "execution_count": 24,
   "metadata": {},
   "outputs": [
    {
     "data": {
      "text/plain": [
       "[0, 10, 20, 30]"
      ]
     },
     "execution_count": 24,
     "metadata": {},
     "output_type": "execute_result"
    }
   ],
   "source": [
    "myfilter(iseven,[0,5,10,15,20,25,30])"
   ]
  },
  {
   "cell_type": "markdown",
   "metadata": {},
   "source": [
    "**(2) Implement List comprehensions to produce the following lists.**                                                          \n",
    "l1 = ['x', 'xx', 'xxx', 'xxxx', 'y', 'yy', 'yyy', 'yyyy', 'z', 'zz', 'zzz', 'zzzz']                                           \n",
    "l2 = ['x', 'y', 'z', 'xx', 'yy', 'zz', 'xxx', 'yyy', 'zzz', 'xxxx', 'yyyy', 'zzzz']                                           \n",
    "l3 = [[2], [3], [4], [3], [4], [5], [4], [5], [6]]                                                                           \n",
    "l4 = [[2, 3, 4, 5], [3, 4, 5, 6],[4, 5, 6, 7], [5, 6, 7, 8]]                    \n",
    "l5 = [(1, 1), (2, 1), (3, 1), (1, 2), (2, 2), (3, 2), (1, 3), (2, 3), (3, 3)]"
   ]
  },
  {
   "cell_type": "code",
   "execution_count": 25,
   "metadata": {},
   "outputs": [
    {
     "name": "stdout",
     "output_type": "stream",
     "text": [
      "l1 = ['x', 'xx', 'xxx', 'xxxx', 'y', 'yy', 'yyy', 'yyyy', 'z', 'zz', 'zzz', 'zzzz']\n",
      "\n",
      "l2 = ['x', 'y', 'z', 'xx', 'yy', 'zz', 'xxx', 'yyy', 'zzz', 'xxxx', 'yyyy', 'zzzz']\n",
      "\n",
      "l3 = [[2], [3], [4], [3], [4], [5], [4], [5], [6]]\n",
      "\n",
      "l4 = [[2, 3, 4, 5], [3, 4, 5, 6], [4, 5, 6, 7], [5, 6, 7, 8]]\n",
      "\n",
      "l5 = [(1, 1), (2, 1), (3, 1), (1, 2), (2, 2), (3, 2), (1, 3), (2, 3), (3, 3)]\n"
     ]
    }
   ],
   "source": [
    "# Comprehensions--> creating an sequential objects from any iterable objects\n",
    "\n",
    "# List comprehensions ==> list = [ <expression> for <each_item in sequence> if <condition> ]\n",
    "\n",
    "L = [\"x\",\"y\",\"z\"]\n",
    "M = [2,3,4]\n",
    "N = [2,3,4,5]\n",
    "O = [1,2,3]\n",
    "\n",
    "l1 = [x * n for x in L for n in range(1,5)]\n",
    "print(\"l1 =\",l1)\n",
    "print()\n",
    "\n",
    "l2 = [x*n for n in range(1,5) for x in L]\n",
    "print(\"l2 =\",l2)\n",
    "print()\n",
    "\n",
    "l3 = [[x+n] for x in M for n in range(3) ]\n",
    "print(\"l3 =\",l3)\n",
    "print()\n",
    "\n",
    "l4 = [[x+n for x in N] for n in range(0,4) ]\n",
    "print(\"l4 =\",l4)\n",
    "print()\n",
    "\n",
    "l5 = [(x,n) for n in range(1,4) for x in O]\n",
    "print(\"l5 =\",l5)"
   ]
  },
  {
   "cell_type": "code",
   "execution_count": null,
   "metadata": {},
   "outputs": [],
   "source": []
  }
 ],
 "metadata": {
  "kernelspec": {
   "display_name": "Python 3",
   "language": "python",
   "name": "python3"
  },
  "language_info": {
   "codemirror_mode": {
    "name": "ipython",
    "version": 3
   },
   "file_extension": ".py",
   "mimetype": "text/x-python",
   "name": "python",
   "nbconvert_exporter": "python",
   "pygments_lexer": "ipython3",
   "version": "3.7.4"
  }
 },
 "nbformat": 4,
 "nbformat_minor": 2
}
